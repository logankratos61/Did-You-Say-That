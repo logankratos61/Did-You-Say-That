{
 "cells": [
  {
   "cell_type": "markdown",
   "metadata": {},
   "source": [
    "### input the file location "
   ]
  },
  {
   "cell_type": "code",
   "execution_count": 20,
   "metadata": {},
   "outputs": [],
   "source": [
    "text=open('WhatsApp Chat with random_gal.txt','r')\n",
    "#Example : text=open('WhatsApp Chat with abcman.txt','r')"
   ]
  },
  {
   "cell_type": "markdown",
   "metadata": {},
   "source": [
    "### do not alter the next two cells"
   ]
  },
  {
   "cell_type": "code",
   "execution_count": 43,
   "metadata": {},
   "outputs": [],
   "source": [
    "import matplotlib.pyplot as plt\n",
    "import seaborn as sns\n",
    "%matplotlib inline"
   ]
  },
  {
   "cell_type": "code",
   "execution_count": 2,
   "metadata": {},
   "outputs": [],
   "source": [
    "aux=[line for line in text]"
   ]
  },
  {
   "cell_type": "code",
   "execution_count": 22,
   "metadata": {},
   "outputs": [],
   "source": [
    "users=[]\n",
    "# simply creating an array to read users"
   ]
  },
  {
   "cell_type": "code",
   "execution_count": 23,
   "metadata": {},
   "outputs": [],
   "source": [
    "def getAuxStr(arr):\n",
    "    aux=\"\"\n",
    "    for i in arr:\n",
    "        aux=aux+\" \"+str(i)\n",
    "    return aux.strip()"
   ]
  },
  {
   "cell_type": "markdown",
   "metadata": {},
   "source": [
    "### How to extract a user? use this"
   ]
  },
  {
   "cell_type": "code",
   "execution_count": 24,
   "metadata": {},
   "outputs": [],
   "source": [
    "def findUser(arr):\n",
    "    for i in range(2,len(arr)):\n",
    "        if arr[i][-1]==\":\":\n",
    "            aux_string=getAuxStr(arr[3:i])\n",
    "            users.append((aux_string+\" \"+arr[i].split(':')[0]).strip())"
   ]
  },
  {
   "cell_type": "code",
   "execution_count": 25,
   "metadata": {},
   "outputs": [],
   "source": [
    "for i in aux:\n",
    "    findUser(i.split())"
   ]
  },
  {
   "cell_type": "markdown",
   "metadata": {},
   "source": [
    "## how many users did our algo found out?\n",
    "\n",
    "run the next cell"
   ]
  },
  {
   "cell_type": "code",
   "execution_count": 26,
   "metadata": {},
   "outputs": [
    {
     "name": "stdout",
     "output_type": "stream",
     "text": [
      "tere liye\n",
      "me\n",
      "acha lgta h tujhe\n",
      "Vyomika Rawat(kuhu): 1🎸\n",
      "Mile the\n",
      "kya lagtay tmko\n",
      "Shivam negi: Answer\n",
      "lgta tujhe\n",
      "Lamha\n",
      "Acha lagta he\n",
      "Shivam negi\n",
      "Vyomika Rawat(kuhu): Magical photo\n",
      "Vyomika Rawat(kuhu): 100%\n",
      "one sweet name\n",
      "Trust me\n",
      "the\n",
      "hu tumhre liye\n",
      "Vyomika Rawat(kuhu)\n",
      "Shivam negi: In need of any book(.pdf) relating to any subject/field or topic? go to your browser and type\n",
      "phn mai\n"
     ]
    }
   ],
   "source": [
    "for i in set(users):\n",
    "    print i"
   ]
  },
  {
   "cell_type": "markdown",
   "metadata": {},
   "source": [
    "# Well, it's a chat between two people.. how can so many users be detected?\n",
    "Let's clean up a little"
   ]
  },
  {
   "cell_type": "code",
   "execution_count": 27,
   "metadata": {},
   "outputs": [],
   "source": [
    "threshold=10\n",
    "verified=[]\n",
    "for i in set(users):\n",
    "    count=0\n",
    "    for j in users:\n",
    "        if i==j:\n",
    "            count+=1\n",
    "    if count>threshold:\n",
    "        verified.append(i)\n",
    "    "
   ]
  },
  {
   "cell_type": "code",
   "execution_count": 28,
   "metadata": {},
   "outputs": [
    {
     "name": "stdout",
     "output_type": "stream",
     "text": [
      "['Shivam negi', 'Vyomika Rawat(kuhu)']\n"
     ]
    }
   ],
   "source": [
    "print verified"
   ]
  },
  {
   "cell_type": "markdown",
   "metadata": {},
   "source": [
    "### Now, that's better"
   ]
  },
  {
   "cell_type": "code",
   "execution_count": 29,
   "metadata": {},
   "outputs": [],
   "source": [
    "#declare lists\n",
    "messeges=[]\n",
    "sender=[]\n",
    "date=[]\n",
    "#note : 0,1 are date and time. 2:x are name and x: is messege\n"
   ]
  },
  {
   "cell_type": "code",
   "execution_count": 30,
   "metadata": {},
   "outputs": [],
   "source": [
    "def splitter(mess_array):\n",
    "    #leave time\n",
    "    for i in range(2,len(mess_array)-1):\n",
    "        if mess_array[i][-1]==\":\":\n",
    "            aux_string=getAuxStr(mess_array[3:i])\n",
    "            final_user_string=(aux_string+\" \"+mess_array[i].split(':')[0]).strip()\n",
    "            if final_user_string in verified:\n",
    "                sender.append(final_user_string)\n",
    "                date.append(mess_array[0])\n",
    "\n",
    "                aux_str2=\"\"\n",
    "                for j in range(i+1,len(mess_array)):\n",
    "                    aux_str2=aux_str2+\" \"+str(mess_array[j])\n",
    "                messeges.append(aux_str2.strip())\n",
    "            "
   ]
  },
  {
   "cell_type": "code",
   "execution_count": 31,
   "metadata": {},
   "outputs": [],
   "source": [
    "for i in range(1,len(aux)):\n",
    "    splitter(aux[i].split())"
   ]
  },
  {
   "cell_type": "code",
   "execution_count": 32,
   "metadata": {},
   "outputs": [],
   "source": [
    "import pandas as pd\n",
    "import numpy as np\n",
    "\n",
    "mess_series=pd.Series(v for v in messeges)\n",
    "sender_series=pd.Series(i for i in sender)\n",
    "date_series=pd.Series(k for k in date)"
   ]
  },
  {
   "cell_type": "code",
   "execution_count": 33,
   "metadata": {},
   "outputs": [],
   "source": [
    "df_raw=pd.concat([sender_series,mess_series,date_series],axis=1)"
   ]
  },
  {
   "cell_type": "markdown",
   "metadata": {},
   "source": [
    "# this is how your database looks like"
   ]
  },
  {
   "cell_type": "code",
   "execution_count": 35,
   "metadata": {},
   "outputs": [
    {
     "data": {
      "text/html": [
       "<div>\n",
       "<style scoped>\n",
       "    .dataframe tbody tr th:only-of-type {\n",
       "        vertical-align: middle;\n",
       "    }\n",
       "\n",
       "    .dataframe tbody tr th {\n",
       "        vertical-align: top;\n",
       "    }\n",
       "\n",
       "    .dataframe thead th {\n",
       "        text-align: right;\n",
       "    }\n",
       "</style>\n",
       "<table border=\"1\" class=\"dataframe\">\n",
       "  <thead>\n",
       "    <tr style=\"text-align: right;\">\n",
       "      <th></th>\n",
       "      <th>0</th>\n",
       "      <th>1</th>\n",
       "      <th>2</th>\n",
       "    </tr>\n",
       "  </thead>\n",
       "  <tbody>\n",
       "    <tr>\n",
       "      <th>0</th>\n",
       "      <td>Shivam negi</td>\n",
       "      <td>hi</td>\n",
       "      <td>28/07/2017,</td>\n",
       "    </tr>\n",
       "    <tr>\n",
       "      <th>1</th>\n",
       "      <td>Vyomika Rawat(kuhu)</td>\n",
       "      <td>Shivam?</td>\n",
       "      <td>28/07/2017,</td>\n",
       "    </tr>\n",
       "    <tr>\n",
       "      <th>2</th>\n",
       "      <td>Shivam negi</td>\n",
       "      <td>hmm</td>\n",
       "      <td>28/07/2017,</td>\n",
       "    </tr>\n",
       "    <tr>\n",
       "      <th>3</th>\n",
       "      <td>Vyomika Rawat(kuhu)</td>\n",
       "      <td>Ok</td>\n",
       "      <td>28/07/2017,</td>\n",
       "    </tr>\n",
       "    <tr>\n",
       "      <th>4</th>\n",
       "      <td>Vyomika Rawat(kuhu)</td>\n",
       "      <td>Save karlia</td>\n",
       "      <td>28/07/2017,</td>\n",
       "    </tr>\n",
       "  </tbody>\n",
       "</table>\n",
       "</div>"
      ],
      "text/plain": [
       "                     0            1            2\n",
       "0          Shivam negi           hi  28/07/2017,\n",
       "1  Vyomika Rawat(kuhu)      Shivam?  28/07/2017,\n",
       "2          Shivam negi          hmm  28/07/2017,\n",
       "3  Vyomika Rawat(kuhu)           Ok  28/07/2017,\n",
       "4  Vyomika Rawat(kuhu)  Save karlia  28/07/2017,"
      ]
     },
     "execution_count": 35,
     "metadata": {},
     "output_type": "execute_result"
    }
   ],
   "source": [
    "df_raw.head()"
   ]
  },
  {
   "cell_type": "code",
   "execution_count": 36,
   "metadata": {},
   "outputs": [],
   "source": [
    "df_raw.columns=['Sender','Messeges','Date']"
   ]
  },
  {
   "cell_type": "markdown",
   "metadata": {},
   "source": [
    "# ahh.. that's a lil better"
   ]
  },
  {
   "cell_type": "code",
   "execution_count": 39,
   "metadata": {},
   "outputs": [
    {
     "data": {
      "text/html": [
       "<div>\n",
       "<style scoped>\n",
       "    .dataframe tbody tr th:only-of-type {\n",
       "        vertical-align: middle;\n",
       "    }\n",
       "\n",
       "    .dataframe tbody tr th {\n",
       "        vertical-align: top;\n",
       "    }\n",
       "\n",
       "    .dataframe thead th {\n",
       "        text-align: right;\n",
       "    }\n",
       "</style>\n",
       "<table border=\"1\" class=\"dataframe\">\n",
       "  <thead>\n",
       "    <tr style=\"text-align: right;\">\n",
       "      <th></th>\n",
       "      <th>Sender</th>\n",
       "      <th>Messeges</th>\n",
       "      <th>Date</th>\n",
       "    </tr>\n",
       "  </thead>\n",
       "  <tbody>\n",
       "    <tr>\n",
       "      <th>0</th>\n",
       "      <td>Shivam negi</td>\n",
       "      <td>hi</td>\n",
       "      <td>28/07/2017,</td>\n",
       "    </tr>\n",
       "    <tr>\n",
       "      <th>1</th>\n",
       "      <td>Vyomika Rawat(kuhu)</td>\n",
       "      <td>Shivam?</td>\n",
       "      <td>28/07/2017,</td>\n",
       "    </tr>\n",
       "    <tr>\n",
       "      <th>2</th>\n",
       "      <td>Shivam negi</td>\n",
       "      <td>hmm</td>\n",
       "      <td>28/07/2017,</td>\n",
       "    </tr>\n",
       "    <tr>\n",
       "      <th>3</th>\n",
       "      <td>Vyomika Rawat(kuhu)</td>\n",
       "      <td>Ok</td>\n",
       "      <td>28/07/2017,</td>\n",
       "    </tr>\n",
       "    <tr>\n",
       "      <th>4</th>\n",
       "      <td>Vyomika Rawat(kuhu)</td>\n",
       "      <td>Save karlia</td>\n",
       "      <td>28/07/2017,</td>\n",
       "    </tr>\n",
       "  </tbody>\n",
       "</table>\n",
       "</div>"
      ],
      "text/plain": [
       "                Sender     Messeges         Date\n",
       "0          Shivam negi           hi  28/07/2017,\n",
       "1  Vyomika Rawat(kuhu)      Shivam?  28/07/2017,\n",
       "2          Shivam negi          hmm  28/07/2017,\n",
       "3  Vyomika Rawat(kuhu)           Ok  28/07/2017,\n",
       "4  Vyomika Rawat(kuhu)  Save karlia  28/07/2017,"
      ]
     },
     "execution_count": 39,
     "metadata": {},
     "output_type": "execute_result"
    }
   ],
   "source": [
    "df_raw.head()"
   ]
  },
  {
   "cell_type": "code",
   "execution_count": 40,
   "metadata": {},
   "outputs": [
    {
     "data": {
      "text/plain": [
       "\"def clean_year(raw_stuff):\\n   main=raw_stuff.split(',')[0]\\n    print main\\n    if len(main.split('/')==3):\\n        return int('20'+main.split('/')[2])\""
      ]
     },
     "execution_count": 40,
     "metadata": {},
     "output_type": "execute_result"
    }
   ],
   "source": [
    "def clean_date(raw_stuff):\n",
    "    main=raw_stuff.split(',')[0]\n",
    "    print main\n",
    "    return int(main.split('/')[0])\n",
    "    \n",
    "def clean_month(raw_stuff):\n",
    "    main=raw_stuff.split(',')[0]\n",
    "    print main\n",
    "    return int(main.split('/')[1])\n",
    "\n",
    "'''def clean_year(raw_stuff):\n",
    "   main=raw_stuff.split(',')[0]\n",
    "    print main\n",
    "    if len(main.split('/')==3):\n",
    "        return int('20'+main.split('/')[2])'''\n",
    "#This is to be developed. And we really don't need em. Trust me\n",
    "\n",
    "    \n",
    "    "
   ]
  },
  {
   "cell_type": "code",
   "execution_count": 45,
   "metadata": {},
   "outputs": [],
   "source": [
    "df_raw['Length']=df_raw['Messeges'].apply(len)"
   ]
  },
  {
   "cell_type": "markdown",
   "metadata": {},
   "source": [
    "# If you want to check how many messeges a person sent?\n",
    "\n",
    "The *x axis* is frequency of messeges and the *y axis* is number of words in that message"
   ]
  },
  {
   "cell_type": "code",
   "execution_count": null,
   "metadata": {},
   "outputs": [],
   "source": [
    "sns.set_style('whitegrid')\n",
    "df_raw.hist(column='Length',by='Sender',bins=50,figsize=(10,10))"
   ]
  },
  {
   "cell_type": "code",
   "execution_count": 44,
   "metadata": {},
   "outputs": [
    {
     "data": {
      "text/plain": [
       "array([<matplotlib.axes._subplots.AxesSubplot object at 0x7fb41c1b7750>,\n",
       "       <matplotlib.axes._subplots.AxesSubplot object at 0x7fb41a12a150>], dtype=object)"
      ]
     },
     "execution_count": 44,
     "metadata": {},
     "output_type": "execute_result"
    },
    {
     "data": {
      "image/png": "[encoded data removed]",
      "text/plain": [
       "<matplotlib.figure.Figure at 0x7fb41c1b7110>"
      ]
     },
     "metadata": {},
     "output_type": "display_data"
    }
   ],
   "source": [
    "# Example graph looks like this"
   ]
  },
  {
   "cell_type": "code",
   "execution_count": 47,
   "metadata": {},
   "outputs": [],
   "source": [
    "df_raw.drop(['Date'],axis=1,inplace=True)"
   ]
  },
  {
   "cell_type": "code",
   "execution_count": 49,
   "metadata": {},
   "outputs": [],
   "source": [
    "#getting dummies now\n",
    "names=pd.get_dummies(df_raw['Sender'],drop_first=True)"
   ]
  },
  {
   "cell_type": "code",
   "execution_count": 50,
   "metadata": {},
   "outputs": [],
   "source": [
    "#df_raw.drop(['Sender'],axis=1,inplace=True)\n",
    "df_final=pd.concat([df_raw,names],axis=1)"
   ]
  },
  {
   "cell_type": "code",
   "execution_count": 51,
   "metadata": {},
   "outputs": [],
   "source": [
    "def giveName():\n",
    "    main=['Messeges','Length','Month']\n",
    "    for i in df_final.columns:\n",
    "        if i not in main:\n",
    "            return i"
   ]
  },
  {
   "cell_type": "code",
   "execution_count": null,
   "metadata": {},
   "outputs": [],
   "source": []
  },
  {
   "cell_type": "markdown",
   "metadata": {},
   "source": [
    "# Normal NLTK stuff\n",
    "all copy pasted from my intial sources, the brain behind the program"
   ]
  },
  {
   "cell_type": "code",
   "execution_count": 52,
   "metadata": {},
   "outputs": [],
   "source": [
    "from nltk.corpus import stopwords\n",
    "import string\n",
    "\n",
    "def text_process(mess):\n",
    "    \"\"\"\n",
    "    Takes in a string of text, then performs the following:\n",
    "    1. Remove all punctuation\n",
    "    2. Remove all stopwords\n",
    "    3. Returns a list of the cleaned text\n",
    "    \"\"\"\n",
    "    # Check characters to see if they are in punctuation\n",
    "    nopunc = [char for char in mess if char not in string.punctuation]\n",
    "\n",
    "    # Join the characters again to form the string.\n",
    "    nopunc = ''.join(nopunc)\n",
    "    \n",
    "    # Now just remove any stopwords\n",
    "    return [word for word in nopunc.split() if word.lower() not in stopwords.words('english')]\n",
    "\n",
    "from sklearn.feature_extraction.text import CountVectorizer\n",
    "from sklearn.feature_extraction.text import TfidfTransformer\n",
    "from sklearn.naive_bayes import MultinomialNB\n",
    "from sklearn.pipeline import Pipeline\n",
    "\n",
    "pipeline = Pipeline([\n",
    "    ('bow', CountVectorizer(analyzer=text_process)),  # strings to token integer counts\n",
    "    ('tfidf', TfidfTransformer()),  # integer counts to weighted TF-IDF scores\n",
    "    ('classifier', MultinomialNB()),  # train on TF-IDF vectors w/ Naive Bayes classifier\n",
    "])\n",
    "\n",
    "from sklearn.model_selection import train_test_split\n",
    "to_be_used=giveName()\n",
    "msg_train, msg_test, label_train, label_test =train_test_split(df_final['Messeges'],df_final[to_be_used], test_size=0.2)\n"
   ]
  },
  {
   "cell_type": "code",
   "execution_count": 53,
   "metadata": {},
   "outputs": [
    {
     "name": "stderr",
     "output_type": "stream",
     "text": [
      "/usr/local/lib/python2.7/dist-packages/ipykernel_launcher.py:18: UnicodeWarning: Unicode equal comparison failed to convert both arguments to Unicode - interpreting them as being unequal\n"
     ]
    },
    {
     "data": {
      "text/plain": [
       "Pipeline(memory=None,\n",
       "     steps=[('bow', CountVectorizer(analyzer=<function text_process at 0x7fb412b71500>,\n",
       "        binary=False, decode_error=u'strict', dtype=<type 'numpy.int64'>,\n",
       "        encoding=u'utf-8', input=u'content', lowercase=True, max_df=1.0,\n",
       "        max_features=None, min_df=1, ngram_range=(1, 1), preprocessor=...         use_idf=True)), ('classifier', MultinomialNB(alpha=1.0, class_prior=None, fit_prior=True))])"
      ]
     },
     "execution_count": 53,
     "metadata": {},
     "output_type": "execute_result"
    }
   ],
   "source": [
    "pipeline.fit(msg_train,label_train)"
   ]
  },
  {
   "cell_type": "code",
   "execution_count": 60,
   "metadata": {},
   "outputs": [],
   "source": [
    "from sklearn.metrics import classification_report"
   ]
  },
  {
   "cell_type": "code",
   "execution_count": 61,
   "metadata": {},
   "outputs": [
    {
     "name": "stderr",
     "output_type": "stream",
     "text": [
      "/usr/local/lib/python2.7/dist-packages/ipykernel_launcher.py:18: UnicodeWarning: Unicode equal comparison failed to convert both arguments to Unicode - interpreting them as being unequal\n"
     ]
    }
   ],
   "source": [
    "pred=pipeline.predict(msg_test)"
   ]
  },
  {
   "cell_type": "code",
   "execution_count": 62,
   "metadata": {},
   "outputs": [
    {
     "name": "stdout",
     "output_type": "stream",
     "text": [
      "                     precision    recall  f1-score   support\n",
      "\n",
      "        Shivam negi       0.74      0.94      0.83       453\n",
      "Vyomika Rawat(kuhu)       0.97      0.86      0.91      1070\n",
      "\n",
      "        avg / total       0.90      0.88      0.89      1523\n",
      "\n"
     ]
    }
   ],
   "source": [
    "print classification_report(pred,label_test)"
   ]
  }
 ],
 "metadata": {
  "kernelspec": {
   "display_name": "Python 2",
   "language": "python",
   "name": "python2"
  },
  "language_info": {
   "codemirror_mode": {
    "name": "ipython",
    "version": 2
   },
   "file_extension": ".py",
   "mimetype": "text/x-python",
   "name": "python",
   "nbconvert_exporter": "python",
   "pygments_lexer": "ipython2",
   "version": "2.7.12"
  }
 },
 "nbformat": 4,
 "nbformat_minor": 2
}
